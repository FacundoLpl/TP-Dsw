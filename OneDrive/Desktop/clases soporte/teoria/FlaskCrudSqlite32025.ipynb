{
 "cells": [
  {
   "cell_type": "markdown",
   "metadata": {},
   "source": [
    "## Flask Crud Sqlite3\n",
    "\n",
    "c:\\sistemas\\py\\flaskcrudsqlit3\n",
    "\n",
    "CRUD con Flask sin formato . \n",
    "\n",
    "https://www.youtube.com/watch?v=md0bqcAFaUI\n",
    "\n",
    "CRUD con Flask con formato html . \n",
    "\n",
    "https://www.youtube.com/watch?v=JobzKMQmkX4&t=21s\n",
    "\n",
    "\n",
    "\n",
    "https://github.com/maksimKorzh/flask-tutorials/tree/master/blog/back-end\n",
    "\n",
    "\n",
    "https://flask.palletsprojects.com/en/3.0.x/quickstart/"
   ]
  },
  {
   "cell_type": "code",
   "execution_count": 3,
   "metadata": {},
   "outputs": [
    {
     "name": "stdout",
     "output_type": "stream",
     "text": [
      " * Serving Flask app '__main__'\n",
      " * Debug mode: on\n"
     ]
    },
    {
     "name": "stderr",
     "output_type": "stream",
     "text": [
      "WARNING: This is a development server. Do not use it in a production deployment. Use a production WSGI server instead.\n",
      " * Running on http://127.0.0.1:5000\n",
      "Press CTRL+C to quit\n",
      " * Restarting with watchdog (windowsapi)\n"
     ]
    },
    {
     "ename": "SystemExit",
     "evalue": "1",
     "output_type": "error",
     "traceback": [
      "An exception has occurred, use %tb to see the full traceback.\n",
      "\u001b[31mSystemExit\u001b[39m\u001b[31m:\u001b[39m 1\n"
     ]
    },
    {
     "name": "stderr",
     "output_type": "stream",
     "text": [
      "C:\\Users\\mario\\AppData\\Roaming\\Python\\Python311\\site-packages\\IPython\\core\\interactiveshell.py:3557: UserWarning: To exit: use 'exit', 'quit', or Ctrl-D.\n",
      "  warn(\"To exit: use 'exit', 'quit', or Ctrl-D.\", stacklevel=1)\n"
     ]
    }
   ],
   "source": [
    "from flask import Flask\n",
    "app= Flask(__name__)\n",
    "\n",
    "@app.route(\"/\")\n",
    "def index():\n",
    "\treturn \"<h1> Hola Mundo </h1>\"\n",
    "\n",
    "# run the flask\n",
    "\n",
    "if __name__ == \"__main__\":\n",
    "    app.run(debug=True)"
   ]
  },
  {
   "cell_type": "markdown",
   "metadata": {},
   "source": [
    "## Flask Crud Sqlite3 con Front End\n",
    "\n",
    "c:\\sistemas\\py\\flaskcrudsqlite3frontend\n",
    "\n",
    "https://www.youtube.com/watch?v=JobzKMQmkX4&t=0s\n",
    "\n",
    "https://github.com/maksimKorzh/flask-tutorials/tree/master/blog/front-end\n",
    "\n"
   ]
  },
  {
   "cell_type": "code",
   "execution_count": 2,
   "metadata": {},
   "outputs": [
    {
     "name": "stdout",
     "output_type": "stream",
     "text": [
      "Collecting Flask\n",
      "  Downloading flask-3.1.0-py3-none-any.whl.metadata (2.7 kB)\n",
      "Collecting Werkzeug>=3.1 (from Flask)\n",
      "  Downloading werkzeug-3.1.3-py3-none-any.whl.metadata (3.7 kB)\n",
      "Requirement already satisfied: Jinja2>=3.1.2 in c:\\users\\mario\\appdata\\local\\programs\\python\\python311\\lib\\site-packages (from Flask) (3.1.6)\n",
      "Collecting itsdangerous>=2.2 (from Flask)\n",
      "  Downloading itsdangerous-2.2.0-py3-none-any.whl.metadata (1.9 kB)\n",
      "Requirement already satisfied: click>=8.1.3 in c:\\users\\mario\\appdata\\local\\programs\\python\\python311\\lib\\site-packages (from Flask) (8.1.8)\n",
      "Requirement already satisfied: blinker>=1.9 in c:\\users\\mario\\appdata\\local\\programs\\python\\python311\\lib\\site-packages (from Flask) (1.9.0)\n",
      "Requirement already satisfied: colorama in c:\\users\\mario\\appdata\\local\\programs\\python\\python311\\lib\\site-packages (from click>=8.1.3->Flask) (0.4.6)\n",
      "Requirement already satisfied: MarkupSafe>=2.0 in c:\\users\\mario\\appdata\\local\\programs\\python\\python311\\lib\\site-packages (from Jinja2>=3.1.2->Flask) (3.0.2)\n",
      "Downloading flask-3.1.0-py3-none-any.whl (102 kB)\n",
      "Downloading itsdangerous-2.2.0-py3-none-any.whl (16 kB)\n",
      "Downloading werkzeug-3.1.3-py3-none-any.whl (224 kB)\n",
      "Installing collected packages: Werkzeug, itsdangerous, Flask\n",
      "Successfully installed Flask-3.1.0 Werkzeug-3.1.3 itsdangerous-2.2.0\n",
      "Note: you may need to restart the kernel to use updated packages.\n"
     ]
    },
    {
     "name": "stderr",
     "output_type": "stream",
     "text": [
      "\n",
      "[notice] A new release of pip is available: 25.0.1 -> 25.1\n",
      "[notice] To update, run: python.exe -m pip install --upgrade pip\n"
     ]
    }
   ],
   "source": [
    "pip install Flask"
   ]
  },
  {
   "cell_type": "code",
   "execution_count": 5,
   "metadata": {},
   "outputs": [
    {
     "name": "stdout",
     "output_type": "stream",
     "text": [
      " * Serving Flask app \"__main__\" (lazy loading)\n",
      " * Environment: production\n",
      "   WARNING: This is a development server. Do not use it in a production deployment.\n",
      "   Use a production WSGI server instead.\n",
      " * Debug mode: on\n"
     ]
    },
    {
     "name": "stderr",
     "output_type": "stream",
     "text": [
      " * Restarting with windowsapi reloader\n"
     ]
    },
    {
     "ename": "SystemExit",
     "evalue": "1",
     "output_type": "error",
     "traceback": [
      "An exception has occurred, use %tb to see the full traceback.\n",
      "\u001b[1;31mSystemExit\u001b[0m\u001b[1;31m:\u001b[0m 1\n"
     ]
    }
   ],
   "source": [
    "from flask import Flask\n",
    "app= Flask(__name__)\n",
    "\n",
    "@app.route(\"/\")\n",
    "def index():\n",
    "\treturn \"<h1> Hola Mundo </h1>\"\n",
    "\n",
    "# run the flask\n",
    "if __name__ == \"__main__\":\n",
    "    app.run(debug=True)\n",
    "\n"
   ]
  },
  {
   "cell_type": "code",
   "execution_count": 2,
   "metadata": {},
   "outputs": [
    {
     "name": "stdout",
     "output_type": "stream",
     "text": [
      " * Serving Flask app \"__main__\" (lazy loading)\n",
      " * Environment: production\n",
      "   WARNING: This is a development server. Do not use it in a production deployment.\n",
      "   Use a production WSGI server instead.\n",
      " * Debug mode: on\n"
     ]
    },
    {
     "name": "stderr",
     "output_type": "stream",
     "text": [
      " * Restarting with windowsapi reloader\n"
     ]
    },
    {
     "ename": "SystemExit",
     "evalue": "1",
     "output_type": "error",
     "traceback": [
      "An exception has occurred, use %tb to see the full traceback.\n",
      "\u001b[1;31mSystemExit\u001b[0m\u001b[1;31m:\u001b[0m 1\n"
     ]
    }
   ],
   "source": [
    "from flask import Flask\n",
    "from flask import request\n",
    "import sqlite3\n",
    "\n",
    "\n",
    "app = Flask(__name__)\n",
    "\n",
    "@app.route('/')\n",
    "def root():\n",
    "    # Connect to db\n",
    "    db = sqlite3.connect('posts.db')\n",
    "    cursor = db.cursor()\n",
    "\n",
    "    # Get data from db\n",
    "    cursor.execute('SELECT * FROM posts')\n",
    "    data = cursor.fetchall()\n",
    "\n",
    "    # Close db connection\n",
    "    db.close()\n",
    "\n",
    "    return str(data)\n",
    "\n",
    "# 127.0.0.1:5000/create?title=title1&post=post1\n",
    "\n",
    "@app.route('/create')\n",
    "def create():\n",
    "    # Connect to db\n",
    "    db = sqlite3.connect('posts.db')\n",
    "    cursor = db.cursor()\n",
    "\n",
    "    # Get request args\n",
    "    title = request.args.get('title')\n",
    "    post = request.args.get('post')\n",
    "\n",
    "    # Insert data into db\n",
    "    cursor.execute('INSERT INTO posts(title, post) VALUES(\"%s\", \"%s\")' % (title, post))\n",
    "    db.commit()\n",
    "\n",
    "    # Close db connection\n",
    "    db.close()\n",
    "    return 'Inserte title: %s  |  post: %s' % (title, post)\n",
    "\n",
    "##http://127.0.0.1:5000/update/1?title=title1&post=post1\n",
    "\n",
    "@app.route('/update/<_id>')\n",
    "def update(_id):\n",
    "    # Connect to db\n",
    "    db = sqlite3.connect('posts.db')\n",
    "    cursor = db.cursor()\n",
    "\n",
    "    # Get request args\n",
    "    title = request.args.get('title')\n",
    "    post = request.args.get('post')\n",
    "\n",
    "    # Update data in db\n",
    "    cursor.execute('UPDATE posts SET title=\"%s\", post=\"%s\" WHERE id=%s' % (title, post, _id))\n",
    "    db.commit()\n",
    "\n",
    "    # Close db connection\n",
    "    db.close()\n",
    "    return 'Update _id: %s  |  title: %s  |  post: %s' % (_id, title, post)\n",
    "\n",
    "##http://127.0.0.1:5000/update/1?title=title1&post=post1\n",
    "@app.route('/delete/<_id>')\n",
    "def delete(_id):\n",
    "    # Connect to db\n",
    "    db = sqlite3.connect('posts.db')\n",
    "    cursor = db.cursor()\n",
    "\n",
    "    # Update data in db\n",
    "    cursor.execute('DELETE FROM posts WHERE id=%s' % _id)\n",
    "\n",
    "    var=db.total_changes\n",
    "\n",
    "    db.commit()\n",
    "\n",
    "    # Close db connection\n",
    "    db.close()\n",
    "\n",
    "    if var==0:\n",
    "        return 'no borro '\n",
    "    else :\n",
    "        return 'deleted _id: %s' % _id\n",
    "\n",
    "\n",
    "if __name__ == '__main__':\n",
    "    app.run(debug=True, threaded=True)\n"
   ]
  },
  {
   "cell_type": "code",
   "execution_count": 3,
   "metadata": {},
   "outputs": [
    {
     "name": "stdout",
     "output_type": "stream",
     "text": [
      " * Serving Flask app '__main__'\n",
      " * Debug mode: on\n"
     ]
    },
    {
     "name": "stderr",
     "output_type": "stream",
     "text": [
      "WARNING: This is a development server. Do not use it in a production deployment. Use a production WSGI server instead.\n",
      " * Running on http://127.0.0.1:5000\n",
      "Press CTRL+C to quit\n",
      " * Restarting with stat\n"
     ]
    },
    {
     "ename": "SystemExit",
     "evalue": "1",
     "output_type": "error",
     "traceback": [
      "An exception has occurred, use %tb to see the full traceback.\n",
      "\u001b[1;31mSystemExit\u001b[0m\u001b[1;31m:\u001b[0m 1\n"
     ]
    },
    {
     "name": "stderr",
     "output_type": "stream",
     "text": [
      "C:\\Sistemas\\Anaconda\\envs\\Py\\lib\\site-packages\\IPython\\core\\interactiveshell.py:3534: UserWarning: To exit: use 'exit', 'quit', or Ctrl-D.\n",
      "  warn(\"To exit: use 'exit', 'quit', or Ctrl-D.\", stacklevel=1)\n"
     ]
    }
   ],
   "source": [
    "from flask import Flask\n",
    "from flask import request\n",
    "from flask import render_template\n",
    "from flask import redirect\n",
    "import sqlite3\n",
    "\n",
    "\n",
    "app = Flask(__name__)\n",
    "\n",
    "@app.route('/')\n",
    "def root():\n",
    "    # Connect to db\n",
    "    db = sqlite3.connect('posts.db')  \n",
    "    cursor = db.cursor()\n",
    "    \n",
    "    # Get data from db\n",
    "    cursor.execute('SELECT * FROM posts ORDER BY id DESC')\n",
    "    posts = cursor.fetchall()\n",
    "    \n",
    "    # Close db connection\n",
    "    db.close()\n",
    "    \n",
    "    return render_template('posts.html', posts=posts)\n",
    "\n",
    "@app.route('/post/<_id>')\n",
    "def post(_id):\n",
    "    # Connect to db\n",
    "    db = sqlite3.connect('posts.db')  \n",
    "    cursor = db.cursor()\n",
    "    \n",
    "    # Get data from db\n",
    "    cursor.execute('SELECT * FROM posts WHERE id=%s' % _id)\n",
    "    post = cursor.fetchone()\n",
    "    \n",
    "    # Close db connection\n",
    "    db.close()\n",
    "    return render_template('post.html', post=post)\n",
    "\n",
    "@app.route('/create')\n",
    "def create():\n",
    "    return render_template('create.html')\n",
    "\n",
    "@app.route('/edit')\n",
    "def edit():\n",
    "    # Get request args\n",
    "    title = request.args.get('title')\n",
    "    post = request.args.get('post')\n",
    "    _id = request.args.get('_id')\n",
    "\n",
    "    return render_template('edit.html', title=title, post=post, _id=_id)\n",
    "\n",
    "\n",
    "@app.route('/insert')\n",
    "def insert():\n",
    "    # Connect to db\n",
    "    db = sqlite3.connect('posts.db')  \n",
    "    cursor = db.cursor()\n",
    "    \n",
    "    # Get request args\n",
    "    title = request.args.get('title')\n",
    "    post = request.args.get('post')\n",
    "    \n",
    "    # Insert data into db\n",
    "    cursor.execute('INSERT INTO posts(title, post) VALUES(\"%s\", \"%s\")' % (title, post.replace('\"', \"'\")))\n",
    "    db.commit()\n",
    "    \n",
    "    # Close db connection\n",
    "    db.close()\n",
    "    return redirect('/')\n",
    "\n",
    "@app.route('/update/<_id>')\n",
    "def update(_id):\n",
    "    # Connect to db\n",
    "    db = sqlite3.connect('posts.db')  \n",
    "    cursor = db.cursor()\n",
    "    \n",
    "    # Get request args\n",
    "    title = request.args.get('title')\n",
    "    post = request.args.get('post')\n",
    "    \n",
    "    # Update data in db\n",
    "    cursor.execute('UPDATE posts SET title=\"%s\", post=\"%s\" WHERE id=%s' % (title, post.replace('\"', \"'\"), _id))\n",
    "    db.commit()\n",
    "    \n",
    "    # Close db connection\n",
    "    db.close()\n",
    "    return redirect('/')\n",
    "\n",
    "@app.route('/delete/<_id>')\n",
    "def delete(_id):\n",
    "    # Connect to db\n",
    "    db = sqlite3.connect('posts.db')  \n",
    "    cursor = db.cursor()\n",
    "    \n",
    "    # Update data in db\n",
    "    cursor.execute('DELETE FROM posts WHERE id=%s' % _id)\n",
    "    db.commit()\n",
    "    \n",
    "    # Close db connection\n",
    "    db.close()\n",
    "    return redirect('/')\n",
    "\n",
    "\n",
    "if __name__ == '__main__':\n",
    "    app.run(debug=True, threaded=True)"
   ]
  },
  {
   "cell_type": "code",
   "execution_count": null,
   "metadata": {},
   "outputs": [],
   "source": []
  },
  {
   "cell_type": "code",
   "execution_count": null,
   "metadata": {},
   "outputs": [],
   "source": []
  }
 ],
 "metadata": {
  "kernelspec": {
   "display_name": "Python 3",
   "language": "python",
   "name": "python3"
  },
  "language_info": {
   "codemirror_mode": {
    "name": "ipython",
    "version": 3
   },
   "file_extension": ".py",
   "mimetype": "text/x-python",
   "name": "python",
   "nbconvert_exporter": "python",
   "pygments_lexer": "ipython3",
   "version": "3.11.9"
  }
 },
 "nbformat": 4,
 "nbformat_minor": 4
}

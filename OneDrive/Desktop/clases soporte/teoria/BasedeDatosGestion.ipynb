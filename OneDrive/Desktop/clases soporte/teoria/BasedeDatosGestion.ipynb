{
 "cells": [
  {
   "cell_type": "markdown",
   "metadata": {},
   "source": [
    "GESTION DE BASES DE DATOS!\n",
    "\n",
    "En python, el acceso a bases de datos está estandarizado por la especificación Database API (DB-API), actualmente en la versión 2.0 (PEP 249: Python Database API Specification v2.0)\n",
    "\n",
    "Gracias a esto, se puede acceder a cualquier base de datos utilizando la misma interfaz (ya sea un motor remoto, local, ODBC, etc.). \n",
    "\n",
    "El mismo código se podría llegar a usar para cualquier base de datos, tomando siempre los recaudos necesarios (lenguaje SQL estándar, estilo de parámetros soportado, etc.)\n",
    "\n",
    "Hay que descargar los conectores que se vayan a usar, compatibles con la versión del motor de base de datos y de Python a emplear.\n",
    "Ej: para MySql\n",
    "https://dev.mysql.com/downloads/connector/python/\n",
    "(descargar para Python 3.x, 32-bit o 64-bit)\n",
    "\n",
    "También:\n",
    "pip install PyMySQL\n",
    "\n",
    "Para Odbc:\n",
    "https://pypi.python.org/pypi/pypyodbc\n",
    "\n",
    "O también:    pip install pypyodbc\n",
    "\n",
    "El conector para SqLite viene incluido con Python.\n"
   ]
  },
  {
   "cell_type": "markdown",
   "metadata": {},
   "source": [
    "Estructura Básica de la gestión de datos!\n",
    "\n",
    "Importar el conector\n",
    "\n",
    "Conectarse a la base de datos (crear un objeto conexión con connect del módulo conector)\n",
    "\n",
    "Crear un objeto Cursor de la conexión\n",
    "\n",
    "Ejecutar una consulta (método execute del cursor)\n",
    "\n",
    "Obtener los datos (método fetch o iterar sobre el cursor)\n",
    "\n",
    "Si hubo modificaciones, usar commit() del cursor\n",
    "\n",
    "Cerrar el cursor (método close del cursor)"
   ]
  },
  {
   "cell_type": "code",
   "execution_count": 9,
   "metadata": {},
   "outputs": [],
   "source": [
    "#SQLite Uso  \n",
    "## Es un motor fácil de usar, no requiere programa servidor corriendo, ni configuración. Muy útil para hacer pruebas.\n",
    "#pip installa mysql-connect\n",
    "#pip install PyMySQL\n",
    "\n",
    "import sqlite3\t#--- cumple con DB-API 2.0\n",
    "#--- se puede crear en memoria:\n",
    "db=sqlite3.connect(\":memory:\")\n",
    "\n",
    "cursor = db.cursor()\n",
    "cadenaSQL = 'CREATE TABLE IF NOT EXISTS ventas(id INTEGER PRIMARY KEY ASC, descrip TEXT(25), cant REAL(15,2))'\n",
    "\n",
    "cursor.execute(cadenaSQL)\n",
    "db.commit()\n",
    "db.close()"
   ]
  },
  {
   "cell_type": "code",
   "execution_count": 10,
   "metadata": {},
   "outputs": [],
   "source": [
    "\n",
    "import sqlite3\t#--- cumple con DB-API 2.0\n",
    "#--- o bien en el disco:\n",
    "db = sqlite3.connect(\"mibase.db\")\n",
    "\n",
    "cursor = db.cursor()\n",
    "cSQL = 'CREATE TABLE IF NOT EXISTS ventas(id INTEGER PRIMARY KEY ASC, descrip TEXT(25), cant REAL(15,2))'\n",
    "\n",
    "cursor.execute(cSQL)\n",
    "db.commit()\n",
    "db.close()"
   ]
  },
  {
   "cell_type": "code",
   "execution_count": 1,
   "metadata": {},
   "outputs": [],
   "source": [
    "import sqlite3\t#--- cumple con DB-API 2.0\n",
    "\n",
    "\n",
    "##Ej. pasaje de datos de un campo en Insert:\n",
    "##NOTA:  La forma de indicar dónde van los parámetros depende del conector. %s va para MySql, mientras que SQLite usa ? . Otros usan :1\n",
    "#--- otra forma - poner comillas donde hay que reemplazar textos o fechas  (ver  la diferencia entre '{0}‘  y {3}  datos texto y números):     (Ojo. Expone a SQL injection)\n",
    "##caux = \"INSERT INTO persona (nombre, fechanacimiento, dni, altura) VALUES ('{0}', '{1}', {2}, {3})“\n",
    "##cins = caux.format( cnom, dfecha_nac, ndni, naltura )\n",
    "##cur.execute(cins)\n",
    "\n",
    "\n",
    "\n",
    "\n",
    "#--- o bien en el disco:\n",
    "db = sqlite3.connect(\"mibase.db\")\n",
    "\n",
    "cursor = db.cursor()\n",
    "\n",
    "nid=20\n",
    "sdescrip=\"venta19\"\n",
    "ncant=1100\n",
    "cursor.execute(\"insert into ventas (id, descrip, cant) values ( ? , ? , ?) \", (nid, sdescrip, ncant))\n",
    "\n",
    "db.commit()\n",
    "db.close()"
   ]
  },
  {
   "cell_type": "code",
   "execution_count": 2,
   "metadata": {},
   "outputs": [
    {
     "name": "stdout",
     "output_type": "stream",
     "text": [
      "<sqlite3.Cursor object at 0x00000223A2A9A740>\n",
      "2 : venta3, 300.0\n",
      "3 : venta3, 300.0\n",
      "4 : venta3, 300.0\n",
      "5 : venta3, 300.0\n",
      "6 : venta3, 300.0\n",
      "7 : venta7, 400.0\n",
      "8 : venta8, 800.0\n",
      "9 : venta8, 800.0\n",
      "10 : venta8, 800.0\n",
      "11 : venta11, 1100.0\n",
      "12 : venta11, 1100.0\n",
      "13 : venta11, 1100.0\n",
      "14 : venta11, 1100.0\n",
      "15 : venta11, 1100.0\n",
      "18 : venta11, 1100.0\n",
      "19 : venta19, 1100.0\n",
      "20 : venta19, 1100.0\n"
     ]
    }
   ],
   "source": [
    "import sqlite3\t#--- cumple con DB-API 2.0\n",
    "db = sqlite3.connect(\"mibase.db\")\n",
    "cursor = db.cursor()\n",
    "cursor.execute(\"SELECT id,descrip,cant FROM ventas\")\n",
    "#--- el mismo objeto cursor es iterable. No necesita fetchall():\n",
    "print(cursor)\n",
    "for fila in cursor:\n",
    "    # fila[0] devuelve (name), el primer campo de la select\n",
    "    print('{0} : {1}, {2}'.format(fila[0], fila[1], fila[2]))\n",
    "\n",
    "db.close()\n"
   ]
  },
  {
   "cell_type": "code",
   "execution_count": 4,
   "metadata": {},
   "outputs": [
    {
     "name": "stdout",
     "output_type": "stream",
     "text": [
      "(10, 'venta8', 800.0)\n",
      "(11, 'venta11', 1100.0)\n",
      "[(12, 'venta11', 1100.0), (13, 'venta11', 1100.0), (14, 'venta11', 1100.0), (15, 'venta11', 1100.0), (18, 'venta11', 1100.0), (19, 'venta19', 1100.0), (20, 'venta19', 1100.0)]\n",
      "[]\n"
     ]
    }
   ],
   "source": [
    "import sqlite3\t#--- cumple con DB-API 2.0\n",
    "db = sqlite3.connect(\"mibase.db\")\n",
    "cursor = db.cursor()\n",
    "\n",
    "nid = 9\n",
    "cursor.execute(\"SELECT id,descrip,cant FROM ventas WHERE id>?\",(nid,))\n",
    "\n",
    "\n",
    "ventanid = cursor.fetchone()\n",
    "print(ventanid)\n",
    "ventanid = cursor.fetchone()\n",
    "print(ventanid)\n",
    "ventas = cursor.fetchall()\n",
    "print(ventas)\n",
    "ventas = cursor.fetchall()\n",
    "print(ventas)"
   ]
  },
  {
   "cell_type": "code",
   "execution_count": 5,
   "metadata": {},
   "outputs": [
    {
     "name": "stdout",
     "output_type": "stream",
     "text": [
      "(10, 'venta8', 800.0)\n",
      "(10, 'venta8', 800.0)\n"
     ]
    }
   ],
   "source": [
    "nid = 9\n",
    "cursor.execute(\"SELECT id,descrip,cant FROM ventas WHERE id>?\",(nid,))\n",
    "\n",
    "\n",
    "ventanid = cursor.fetchone()\n",
    "print(ventanid)\n",
    "\n",
    "nid = 9\n",
    "cursor.execute(\"SELECT id,descrip,cant FROM ventas WHERE id>?\",(nid,))\n",
    "\n",
    "ventanid = cursor.fetchone()\n",
    "print(ventanid)"
   ]
  },
  {
   "cell_type": "markdown",
   "metadata": {},
   "source": [
    "MySQL \n",
    "\n",
    "Instalar MySQL \n",
    "\n",
    "Configurar con Workbench (https://www.youtube.com/watch?v=cot9uPK0d6o)\n",
    "    "
   ]
  },
  {
   "cell_type": "code",
   "execution_count": 9,
   "metadata": {},
   "outputs": [
    {
     "name": "stdout",
     "output_type": "stream",
     "text": [
      "Requirement already satisfied: pymysql in c:\\users\\mario\\appdata\\local\\programs\\python\\python311\\lib\\site-packages (1.1.1)\n",
      "Collecting cryptography\n",
      "  Downloading cryptography-44.0.2-cp39-abi3-win_amd64.whl.metadata (5.7 kB)\n",
      "Collecting cffi>=1.12 (from cryptography)\n",
      "  Downloading cffi-1.17.1-cp311-cp311-win_amd64.whl.metadata (1.6 kB)\n",
      "Collecting pycparser (from cffi>=1.12->cryptography)\n",
      "  Using cached pycparser-2.22-py3-none-any.whl.metadata (943 bytes)\n",
      "Downloading cryptography-44.0.2-cp39-abi3-win_amd64.whl (3.2 MB)\n",
      "   ---------------------------------------- 0.0/3.2 MB ? eta -:--:--\n",
      "   ---------------------------------------- 3.2/3.2 MB 17.1 MB/s eta 0:00:00\n",
      "Downloading cffi-1.17.1-cp311-cp311-win_amd64.whl (181 kB)\n",
      "Using cached pycparser-2.22-py3-none-any.whl (117 kB)\n",
      "Installing collected packages: pycparser, cffi, cryptography\n",
      "Successfully installed cffi-1.17.1 cryptography-44.0.2 pycparser-2.22\n"
     ]
    }
   ],
   "source": [
    "!pip install pymysql\n",
    "!pip install cryptography\n"
   ]
  },
  {
   "cell_type": "code",
   "execution_count": 14,
   "metadata": {},
   "outputs": [],
   "source": [
    "## MySql Crear tabla en Base de Datos \n",
    "\n",
    "import pymysql\n",
    "\n",
    "#--- crear un objeto conexión con una base de datos:\n",
    "conn = pymysql.connect( host=\"localhost\", port=3306, user=\"root\", passwd=\"1234\", db=\"mydb\" )\n",
    "\n",
    "#--- crear un cursor:\n",
    "cur = conn.cursor()\n",
    "\n",
    "#--- usar el cursor creado para ejecutar distintos comandos SQL:\n",
    "caux = \"CREATE TABLE IF NOT EXISTS `mydb`.`bancos` (`idbancos` INT NOT NULL,`nombre` VARCHAR(45) NULL,PRIMARY KEY (`idbancos`))\"\n",
    "cur.execute( caux )\n",
    "#--- cerrar todo …\n",
    "\n",
    "cur.close()\n",
    "conn.close()"
   ]
  },
  {
   "cell_type": "code",
   "execution_count": 16,
   "metadata": {},
   "outputs": [],
   "source": [
    "## Mysql Insertar registro \n",
    "\n",
    "import pymysql\n",
    "\n",
    "#--- crear un objeto conexión con una base de datos:\n",
    "conn = pymysql.connect( host=\"localhost\", port=3306, user=\"root\", passwd=\"1234\", db=\"mydb\" )\n",
    "\n",
    "#--- crear un cursor:\n",
    "cur = conn.cursor()\n",
    "\n",
    "# Ésta es la forma más segura – se pasan los parámetros de la consulta en una tupla como 2do parámetro del execute:   \n",
    "##caux = 'INSERT INTO persona (nombre, fechanacimiento, dni, altura) VALUES (%s,%s,%s,%s)'\n",
    "##tdatos = ( cnom, dfecha_nac, ndni, naltura )\n",
    "##cur.execute(caux, tdatos)\n",
    "\n",
    "#--- usar el cursor creado para ejecutar distintos comandos SQL:\n",
    "caux = \"INSERT into bancos (idbancos,nombre) VALUES (%s,%s)\"\n",
    "ddatos = (16 , \"ICBC Bank \")\n",
    "##ddatos = (43,\"Banco xxxGoliat\")\n",
    "cur.execute( caux , ddatos )\n",
    "\n",
    "#--- cerrar todo …\n",
    "conn.commit()\t#---- necesario sólo si hubo modificaciones de datos\n",
    "cur.close()\n",
    "conn.close()"
   ]
  },
  {
   "cell_type": "code",
   "execution_count": 17,
   "metadata": {},
   "outputs": [
    {
     "name": "stdout",
     "output_type": "stream",
     "text": [
      "15 : Coop CrediCoop  \n",
      "16 : ICBC Bank  \n",
      "43 : Banco xxxGoliat \n"
     ]
    }
   ],
   "source": [
    "##Mysql Consultar Registro \n",
    "\n",
    "#--- crear un objeto conexión con una base de datos:\n",
    "conn = pymysql.connect( host=\"localhost\", port=3306, user=\"root\", passwd=\"1234\", db=\"mydb\" )\n",
    "\n",
    "#--- crear un cursor:\n",
    "cur = conn.cursor()\n",
    "\n",
    "##Se puede hacer con fetchall(), por ej, o bien:\n",
    "cur.execute(\"SELECT * FROM bancos\")\n",
    "#--- el mismo objeto cursor es iterable. No necesita fetchall():\n",
    "\n",
    "for fila in cur:\n",
    "    # fila[0] devuelve (name), el primer campo de la select\n",
    "    print('{0} : {1} '.format(fila[0], fila[1]))\n",
    "\n",
    "#--- cerrar todo …\n",
    "cur.close()\n",
    "conn.close()"
   ]
  },
  {
   "cell_type": "code",
   "execution_count": 18,
   "metadata": {},
   "outputs": [
    {
     "name": "stdout",
     "output_type": "stream",
     "text": [
      "Bamcp id:  43 (43, 'Banco xxxGoliat')\n"
     ]
    }
   ],
   "source": [
    "##Mysql Consultar Registro \n",
    "\n",
    "#--- crear un objeto conexión con una base de datos:\n",
    "conn = pymysql.connect( host=\"localhost\", port=3306, user=\"root\", passwd=\"1234\", db=\"mydb\" )\n",
    "\n",
    "#--- crear un cursor:\n",
    "cur = conn.cursor()\n",
    "\n",
    "##Para condición con parámetros, se usa ?.\n",
    "bc_id = 43\n",
    "##cur.execute(\"SELECT * FROM bancos WHERE idbancos=3\")\n",
    "cur.execute(\"SELECT * FROM bancos WHERE idbancos=%s\",bc_id)\n",
    "\n",
    "print(\"Bamcp id: \",bc_id,cur.fetchone())\n",
    "\n",
    "\n",
    "#--- cerrar todo …\n",
    "cur.close()\n",
    "conn.close()"
   ]
  },
  {
   "cell_type": "code",
   "execution_count": 19,
   "metadata": {},
   "outputs": [
    {
     "name": "stdout",
     "output_type": "stream",
     "text": [
      "15 : Coop CrediCoop  \n",
      "16 : ICBC Bank  \n",
      "43 : Banco xxxGoliat \n"
     ]
    }
   ],
   "source": [
    "##Mysql Borrar un  Registro \n",
    "\n",
    "#--- crear un objeto conexión con una base de datos:\n",
    "conn = pymysql.connect( host=\"localhost\", port=3306, user=\"root\", passwd=\"1234\", db=\"mydb\" )\n",
    "\n",
    "#--- crear un cursor:\n",
    "cur = conn.cursor()\n",
    "\n",
    "##Para condición con parámetros, se usa ?.\n",
    "bc_id = 42\n",
    "##cur.execute(\"SELECT * FROM bancos WHERE idbancos=2\")\n",
    "cur.execute(\"DELETE FROM bancos WHERE idbancos=%s\",bc_id)\n",
    "conn.commit()\t#---- necesario sólo si hubo modificaciones de datos\n",
    "\n",
    "##Se puede hacer con fetchall(), por ej, o bien:\n",
    "cur.execute(\"SELECT * FROM bancos\")\n",
    "#--- el mismo objeto cursor es iterable. No necesita fetchall():\n",
    "\n",
    "for fila in cur:\n",
    "    # fila[0] devuelve (name), el primer campo de la select\n",
    "    print('{0} : {1} '.format(fila[0], fila[1]))\n",
    "\n",
    "\n",
    "#--- cerrar todo …\n",
    "cur.close()\n",
    "conn.close()"
   ]
  },
  {
   "cell_type": "code",
   "execution_count": 13,
   "metadata": {},
   "outputs": [
    {
     "name": "stdout",
     "output_type": "stream",
     "text": [
      "(1, 'Michael', 'Fox')\n",
      "(2, 'Adam', 'Miller')\n",
      "(3, 'Andrew', 'Peck')\n",
      "(4, 'James', 'Shroyer')\n",
      "(5, 'Eric', 'Burger')\n"
     ]
    }
   ],
   "source": [
    "## El Uso en autoincremet en la key de slqlite \n",
    "\n",
    "\n",
    "\n",
    "import sqlite3\n",
    "data_person_name = [('Michael', 'Fox'),\n",
    "                    ('Adam', 'Miller'),\n",
    "                    ('Andrew', 'Peck'),\n",
    "                    ('James', 'Shroyer'),\n",
    "                    ('Eric', 'Burger')]\n",
    "\n",
    "con = sqlite3.connect(\":memory:\")\n",
    "\n",
    "with con:\n",
    "\n",
    "    c = con.cursor()\n",
    "\n",
    "    c.execute('''CREATE TABLE q1_person_name\n",
    "                 (name_id INTEGER PRIMARY KEY,\n",
    "                  first_name varchar(20) NOT NULL,\n",
    "                  last_name varchar(20) NOT NULL)''')\n",
    "    c.executemany('INSERT INTO q1_person_name(first_name, last_name) VALUES (?,?)', data_person_name)\n",
    "\n",
    "    for row in c.execute('SELECT * FROM q1_person_name'):\n",
    "        print(row)"
   ]
  },
  {
   "cell_type": "markdown",
   "metadata": {},
   "source": [
    "Ejercicios « Bases de datos SQLite\n",
    "Ejercicio 1\n",
    "\n",
    "A lo largo de estos ejercicios vamos a crear un pequeño sistema para gestionar los platos del menú de un restaurante.\n",
    "Parte 1\n",
    "\n",
    "Por ahora debes empezar creando un script llamado restaurante.py y dentro una función crear_bd() que creará una pequeña base de datos restaurante.db con las siguientes dos tablas:\n",
    "\n",
    "CREATE TABLE categoria(\n",
    "    id INTEGER PRIMARY KEY AUTOINCREMENT,\n",
    "    nombre VARCHAR(100) UNIQUE NOT NULL)\n",
    "\n",
    "CREATE TABLE plato(\n",
    "    id INTEGER PRIMARY KEY AUTOINCREMENT,\n",
    "    nombre VARCHAR(100) UNIQUE NOT NULL, \n",
    "    categoria_id INTEGER NOT NULL,\n",
    "    FOREIGN KEY(categoria_id) REFERENCES categoria(id))\n",
    "\n",
    "Si ya existen deberá tratar la excepción y mostrar que las tablas ya existen, lo notarás porque en este caso no usamos el IF NOT EXISTS y eso lanzará un error. En caso contrario mostrará que se han creado correctamente.\n",
    "\n",
    "Nota\n",
    "\n",
    "La línea FOREIGN KEY(categoria_id) REFERENCES categoria(id) indica un tipo de clave especial (foránea), por la cual se crea una relación entre la categoría de un plato con el registro de categorías.\n",
    "\n",
    "Llama a la función y comprueba que la base de datos se crea correctamente.\n",
    "Parte 2\n",
    "\n",
    "Crea una función llamada agregar_categoria() que pida al usuario un nombre de categoría y se encargue de crear la categoría en la base de datos (ten en cuenta que si ya existe dará un error, por que el nombre es UNIQUE).\n",
    "\n",
    "Luego crea un pequeño menú de opciones dentro del script, que te de la bienvenida al sistema y te permita Crear una categoría o Salir. Puedes hacerlo en una función mostrar_menu(). Añade las siguientes tres categorías utilizando este menú de opciones:\n",
    "\n",
    "    Primeros\n",
    "    Segundos\n",
    "    Postres\n",
    "\n",
    "Parte 3\n",
    "\n",
    "Crea una función llamada agregar_plato() que muestre al usuario las categorías disponibles y le permita escoger una (escribiendo un número).\n",
    "\n",
    "Luego le pedirá introducir el nombre del plato y lo añadirá a la base de datos, teniendo en cuenta que la categoria del plato concuerde con el id de la categoría y que el nombre del plato no puede repetirse (no es necesario comprobar si la categoría realmente existe, en ese caso simplemente no se insertará el plato).\n",
    "\n",
    "Agrega la nueva opción al menú de opciones y añade los siguientes platos:\n",
    "\n",
    "    Primeros: Ensalada del tiempo / Zumo de tomate\n",
    "    Segundos: Estofado de pescado / Pollo con patatas\n",
    "    Postres: Flan con nata / Fruta del tiempo\n"
   ]
  },
  {
   "cell_type": "code",
   "execution_count": null,
   "metadata": {},
   "outputs": [],
   "source": []
  },
  {
   "cell_type": "code",
   "execution_count": null,
   "metadata": {},
   "outputs": [],
   "source": []
  }
 ],
 "metadata": {
  "kernelspec": {
   "display_name": "Python 3",
   "language": "python",
   "name": "python3"
  },
  "language_info": {
   "codemirror_mode": {
    "name": "ipython",
    "version": 3
   },
   "file_extension": ".py",
   "mimetype": "text/x-python",
   "name": "python",
   "nbconvert_exporter": "python",
   "pygments_lexer": "ipython3",
   "version": "3.11.9"
  }
 },
 "nbformat": 4,
 "nbformat_minor": 4
}
